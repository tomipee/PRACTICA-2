{
 "cells": [
  {
   "cell_type": "code",
   "execution_count": 33,
   "id": "b14ae842-5c83-45b8-afe5-dded47d6b8c4",
   "metadata": {},
   "outputs": [
    {
     "name": "stdin",
     "output_type": "stream",
     "text": [
      "Ingrese la primera palabra cacas\n",
      "Ingrese la segunda palabra sacacc\n"
     ]
    },
    {
     "name": "stdout",
     "output_type": "stream",
     "text": [
      "No son anagramas\n"
     ]
    }
   ],
   "source": [
    "palabra1 = input(\"Ingrese la primera palabra\")\n",
    "palabra2 = input(\"Ingrese la segunda palabra\")\n",
    "\n",
    "pal1 = list(palabra1)\n",
    "pal2 = list(palabra2)\n",
    "\n",
    "i = len(pal1)\n",
    "y = len(pal2) - 1 #por la cantidad de indicies \n",
    "\n",
    "pos = 0\n",
    "esA = True\n",
    "\n",
    "while(esA) and (pos < i) and (y >= 0):\n",
    "  if(len(pal1) == len(pal2)):\n",
    "      car1 = pal1[pos]\n",
    "      car2 = pal2[y]\n",
    "      if(car1 == car2):\n",
    "          esA = True\n",
    "      else:\n",
    "          esA=False\n",
    "      pos+=1\n",
    "      y-=1\n",
    "  else:  #si la longitud es distinta quiere decir q no son iguales\n",
    "      esA = False\n",
    "       \n",
    "if(esA == True):\n",
    "    print(\"Son anagrammas\")\n",
    "else:\n",
    "    print(\"No son anagramas\")"
   ]
  },
  {
   "cell_type": "code",
   "execution_count": null,
   "id": "f805c159-d546-498b-a866-861281204022",
   "metadata": {},
   "outputs": [],
   "source": []
  }
 ],
 "metadata": {
  "kernelspec": {
   "display_name": "Python 3 (ipykernel)",
   "language": "python",
   "name": "python3"
  },
  "language_info": {
   "codemirror_mode": {
    "name": "ipython",
    "version": 3
   },
   "file_extension": ".py",
   "mimetype": "text/x-python",
   "name": "python",
   "nbconvert_exporter": "python",
   "pygments_lexer": "ipython3",
   "version": "3.12.9"
  }
 },
 "nbformat": 4,
 "nbformat_minor": 5
}
