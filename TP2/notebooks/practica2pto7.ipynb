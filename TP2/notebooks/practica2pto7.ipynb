{
 "cells": [
  {
   "cell_type": "code",
   "execution_count": 18,
   "id": "d1c8fded-cb86-4d35-bd4e-b3d537cf67d8",
   "metadata": {},
   "outputs": [
    {
     "name": "stdin",
     "output_type": "stream",
     "text": [
      "Ingrese el nombre de usuario tomas\n",
      "Ingrese la fecha (EJ -> 2000-12-10) 2004-13-01\n"
     ]
    },
    {
     "name": "stdout",
     "output_type": "stream",
     "text": [
      "TOMAS-20041301-LBW8W4AE7 \n"
     ]
    }
   ],
   "source": [
    "import random\n",
    "import string\n",
    "\n",
    "caracteres = string.digits + string.ascii_uppercase\n",
    "\n",
    "usuario = input(\"Ingrese el nombre de usuario\")\n",
    "user = usuario.upper()\n",
    "\n",
    "fecha = input(\"Ingrese la fecha (EJ -> 2000-12-10)\")\n",
    "fech = fecha.split(\"-\")\n",
    "\n",
    "\n",
    "codigo = random.choices(caracteres,k = 9)\n",
    "cod = \"\".join(codigo)\n",
    "\n",
    "descuento = (f\"{user}-{fech[0]}{fech[1]}{fech[2]}-{cod} \")\n",
    "print(descuento)"
   ]
  },
  {
   "cell_type": "code",
   "execution_count": null,
   "id": "11700119-7698-42e5-911f-368275f62070",
   "metadata": {},
   "outputs": [],
   "source": []
  },
  {
   "cell_type": "code",
   "execution_count": null,
   "id": "1814f4c3-e30e-453c-b7f0-83b290f627f5",
   "metadata": {},
   "outputs": [],
   "source": []
  }
 ],
 "metadata": {
  "kernelspec": {
   "display_name": "Python 3 (ipykernel)",
   "language": "python",
   "name": "python3"
  },
  "language_info": {
   "codemirror_mode": {
    "name": "ipython",
    "version": 3
   },
   "file_extension": ".py",
   "mimetype": "text/x-python",
   "name": "python",
   "nbconvert_exporter": "python",
   "pygments_lexer": "ipython3",
   "version": "3.12.9"
  }
 },
 "nbformat": 4,
 "nbformat_minor": 5
}
