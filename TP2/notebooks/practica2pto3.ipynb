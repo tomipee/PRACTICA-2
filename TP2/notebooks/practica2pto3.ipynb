{
 "cells": [
  {
   "cell_type": "code",
   "execution_count": 2,
   "id": "e1534963-e868-4ef0-adea-dd486e8b5850",
   "metadata": {},
   "outputs": [
    {
     "name": "stdin",
     "output_type": "stream",
     "text": [
      "Ingrese por teclado... No\n"
     ]
    },
    {
     "name": "stdout",
     "output_type": "stream",
     "text": [
      " No se permiten insultos ni lenguaje\n",
      "ofensivo\n",
      " No publiques enlaces sospechosos o repetitivos\n",
      "\n",
      "No compartas información personal\n"
     ]
    }
   ],
   "source": [
    "import sys\n",
    "import os\n",
    "\n",
    "sys.path.append(os.path.abspath(\"..\"))\n",
    "from src import funciones\n",
    "\n",
    "rules = \"\"\"Respeta a los demás. No se permiten insultos ni lenguaje\n",
    "ofensivo.\n",
    "Evita el spam. No publiques enlaces sospechosos o repetitivos.\n",
    "No compartas información personal.\n",
    "Usa los canales adecuados para cada tema.\n",
    "Sigue las instrucciones de los moderadores.\"\"\"\n",
    "\n",
    "divPun = rules.split(\".\")\n",
    "x = \"\"\n",
    "x = funciones.ingreseString(x)\n",
    "\n",
    "for elem in divPun:\n",
    "    funciones.seEncuentra(x,elem)\n",
    "    \n",
    "\n"
   ]
  },
  {
   "cell_type": "code",
   "execution_count": null,
   "id": "23c3cb1c-a2d1-4ef3-aef9-7645e04a3b33",
   "metadata": {},
   "outputs": [],
   "source": []
  }
 ],
 "metadata": {
  "kernelspec": {
   "display_name": "Python 3 (ipykernel)",
   "language": "python",
   "name": "python3"
  },
  "language_info": {
   "codemirror_mode": {
    "name": "ipython",
    "version": 3
   },
   "file_extension": ".py",
   "mimetype": "text/x-python",
   "name": "python",
   "nbconvert_exporter": "python",
   "pygments_lexer": "ipython3",
   "version": "3.12.9"
  }
 },
 "nbformat": 4,
 "nbformat_minor": 5
}
