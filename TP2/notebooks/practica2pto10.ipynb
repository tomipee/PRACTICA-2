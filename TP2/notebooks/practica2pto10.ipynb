{
 "cells": [
  {
   "cell_type": "code",
   "execution_count": 1,
   "id": "db39d54c-68fa-43b2-ac3d-8c7509a92774",
   "metadata": {},
   "outputs": [
    {
     "name": "stdout",
     "output_type": "stream",
     "text": [
      "{'Shadow': {'kills': 6, 'assists': 0, 'MPVS': 0, 'deaths': 2, 'puntos': 3}, 'Blaze': {'kills': 6, 'assists': 0, 'MVPS': 0, 'deaths': 3, 'puntos': 2}, 'Viper': {'kills': 5, 'assists': 0, 'MVPS': 0, 'deaths': 3, 'puntos': 2}, 'Frost': {'kills': 4, 'assists': 0, 'MPVS': 0, 'deaths': 2, 'puntos': 3}, 'Reaper': {'kills': 4, 'assists': 0, 'MVPS': 0, 'deaths': 1, 'puntos': 4}}\n"
     ]
    }
   ],
   "source": [
    "import sys\n",
    "import os\n",
    "\n",
    "sys.path.append(os.path.abspath(\"..\"))\n",
    "from src.funciones import sumar_estadisticas\n",
    "\n",
    "rounds = [\n",
    "{\n",
    "'Shadow': {'kills': 2, 'assists': 1, 'deaths': True},\n",
    "'Blaze': {'kills': 1, 'assists': 0, 'deaths': False},\n",
    "'Viper': {'kills': 1, 'assists': 2, 'deaths': True},\n",
    "'Frost': {'kills': 0, 'assists': 1, 'deaths': False},\n",
    "'Reaper': {'kills': 1, 'assists': 1, 'deaths': False}\n",
    "},\n",
    "{\n",
    "'Shadow': {'kills': 0, 'assists': 2, 'deaths': False},\n",
    "'Blaze': {'kills': 2, 'assists': 0, 'deaths': True},\n",
    "'Viper': {'kills': 1, 'assists': 1, 'deaths': False},\n",
    "'Frost': {'kills': 2, 'assists': 1, 'deaths': True},\n",
    "'Reaper': {'kills': 0, 'assists': 1, 'deaths': False}\n",
    "},\n",
    "{\n",
    "'Shadow': {'kills': 1, 'assists': 0, 'deaths': False},\n",
    "'Blaze': {'kills': 2, 'assists': 2, 'deaths': True},\n",
    "'Viper': {'kills': 1, 'assists': 1, 'deaths': True},\n",
    "'Frost': {'kills': 0, 'assists': 1, 'deaths': False},\n",
    "'Reaper': {'kills': 1, 'assists': 1, 'deaths': False}\n",
    "},\n",
    "{\n",
    "'Shadow': {'kills': 2, 'assists': 1, 'deaths': False},\n",
    "'Blaze': {'kills': 1, 'assists': 0, 'deaths': True},\n",
    "'Viper': {'kills': 0, 'assists': 2, 'deaths': False},\n",
    "'Frost': {'kills': 1, 'assists': 1, 'deaths': True},\n",
    "'Reaper': {'kills': 1, 'assists': 1, 'deaths': False}\n",
    "},\n",
    "{\n",
    "'Shadow': {'kills': 1, 'assists': 2, 'deaths': True},\n",
    "'Blaze': {'kills': 0, 'assists': 1, 'deaths': False},\n",
    "'Viper': {'kills': 2, 'assists': 0, 'deaths': True},\n",
    "'Frost': {'kills': 1, 'assists': 1, 'deaths': False},\n",
    "'Reaper': {'kills': 1, 'assists': 1, 'deaths': True}\n",
    "}\n",
    "]\n",
    "\n",
    "\n",
    "ronda_final ={\n",
    "'Shadow': {'kills': 0, 'assists': 0, 'MPVS' : 0, 'deaths': 0, 'puntos': 0},\n",
    "'Blaze': {'kills': 0, 'assists': 0, 'MVPS' : 0, 'deaths': 0, 'puntos': 0},\n",
    "'Viper': {'kills': 0, 'assists': 0, 'MVPS' : 0, 'deaths': 0, 'puntos': 0},\n",
    "'Frost': {'kills': 0, 'assists': 0, 'MPVS' : 0, 'deaths': 0, 'puntos': 0},\n",
    "'Reaper': {'kills': 0, 'assists': 0, 'MVPS': 0, 'deaths': 0, 'puntos': 0}\n",
    "}\n",
    "\n",
    "ronda_normal = {\n",
    "'Shadow': {'kills': 0, 'assists': 0, 'deaths': False},\n",
    "'Blaze': {'kills': 0, 'assists': 0, 'deaths': False},\n",
    "'Viper': {'kills': 0, 'assists': 0, 'deaths': False},\n",
    "'Frost': {'kills': 0, 'assists': 0, 'deaths': False},\n",
    "'Reaper': {'kills': 0, 'assists': 0, 'deaths': False}\n",
    "}\n",
    "\n",
    "for elem in rounds:\n",
    "    for jugador in elem:\n",
    "        stats = elem[jugador]\n",
    "        for estadistica in stats:\n",
    "            sumar_estadisticas(ronda_final,ronda_normal,estadistica,stats,jugador)\n",
    "\n",
    "print(ronda_final)"
   ]
  },
  {
   "cell_type": "code",
   "execution_count": null,
   "id": "bde6fd97-2896-4c78-a5f9-28c92ff3c988",
   "metadata": {},
   "outputs": [],
   "source": []
  }
 ],
 "metadata": {
  "kernelspec": {
   "display_name": "Python 3 (ipykernel)",
   "language": "python",
   "name": "python3"
  },
  "language_info": {
   "codemirror_mode": {
    "name": "ipython",
    "version": 3
   },
   "file_extension": ".py",
   "mimetype": "text/x-python",
   "name": "python",
   "nbconvert_exporter": "python",
   "pygments_lexer": "ipython3",
   "version": "3.12.9"
  }
 },
 "nbformat": 4,
 "nbformat_minor": 5
}
