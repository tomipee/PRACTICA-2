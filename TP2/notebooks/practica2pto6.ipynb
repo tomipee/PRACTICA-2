{
 "cells": [
  {
   "cell_type": "code",
   "execution_count": 3,
   "id": "354f2217-4a8e-4b4a-bc4f-4d5f6a9d6297",
   "metadata": {},
   "outputs": [
    {
     "name": "stdout",
     "output_type": "stream",
     "text": [
      "Menciones de música: 4\n",
      "Menciones de charla: 2\n",
      "Menciones de entretenimiento: 1\n"
     ]
    }
   ],
   "source": [
    "import sys\n",
    "import os\n",
    "\n",
    "sys.path.append(os.path.abspath(\"..\"))\n",
    "from src import funciones\n",
    "\n",
    "descriptions = [\n",
    "\"Streaming de música en vivo con covers y composiciones\",\n",
    "\"Charla interactiva con la audiencia sobre series y películas\",\n",
    "\"Jugamos a juegos retro y charlamos sobre su historia\",\n",
    "\"Exploramos la mejor música de los 80s y 90s\",\n",
    "\"Programa de entretenimiento con noticias y curiosidades del mundo gamer\",\n",
    "\"Sesión de charla con invitados especiales del mundo del streaming\",\n",
    "\"Música en directo con improvisaciones y peticiones del chat\",\n",
    "\"Un espacio para charlar relajada sobre tecnología y cultura digital\",\n",
    "\"Exploramos el impacto de la música en los videojuegos clásicos\"\n",
    "]\n",
    "\n",
    "menciones = {\"música\" : 0, \n",
    "             \"charla\" : 0, \n",
    "             \"entretenimiento\" : 0}\n",
    "\n",
    "\n",
    "for elem in descriptions:\n",
    "    Linea = funciones.dividirLinea(elem)\n",
    "    Linea = [palabra.lower() for palabra in Linea]\n",
    "    funciones.lineaTipo(Linea,menciones)\n",
    "\n",
    "for clave, valor in menciones.items():\n",
    "    print(f\"Menciones de {clave}: {valor}\")\n",
    "    "
   ]
  },
  {
   "cell_type": "code",
   "execution_count": null,
   "id": "63674a49-6247-44e7-89f7-caeb5435d010",
   "metadata": {},
   "outputs": [],
   "source": []
  },
  {
   "cell_type": "code",
   "execution_count": null,
   "id": "a0d5ec8c-9507-4177-81d5-6a9638122113",
   "metadata": {},
   "outputs": [],
   "source": []
  },
  {
   "cell_type": "code",
   "execution_count": null,
   "id": "4f05a5fb-1905-48bf-926c-29b8cd319a36",
   "metadata": {},
   "outputs": [],
   "source": []
  },
  {
   "cell_type": "code",
   "execution_count": null,
   "id": "53cb4575-e0b9-4ac9-b405-fcb4cb30af06",
   "metadata": {},
   "outputs": [],
   "source": []
  },
  {
   "cell_type": "code",
   "execution_count": null,
   "id": "ffcecb7f-2a75-4cda-8ab4-dd86eb565a9c",
   "metadata": {},
   "outputs": [],
   "source": []
  }
 ],
 "metadata": {
  "kernelspec": {
   "display_name": "Python 3 (ipykernel)",
   "language": "python",
   "name": "python3"
  },
  "language_info": {
   "codemirror_mode": {
    "name": "ipython",
    "version": 3
   },
   "file_extension": ".py",
   "mimetype": "text/x-python",
   "name": "python",
   "nbconvert_exporter": "python",
   "pygments_lexer": "ipython3",
   "version": "3.12.9"
  }
 },
 "nbformat": 4,
 "nbformat_minor": 5
}
