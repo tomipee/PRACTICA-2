{
 "cells": [
  {
   "cell_type": "code",
   "execution_count": 5,
   "id": "1b9d82a2-6198-4c92-b8fd-b0d30ca09952",
   "metadata": {},
   "outputs": [
    {
     "name": "stdin",
     "output_type": "stream",
     "text": [
      "Ingrese un nombre de usuario G.amer1234\n"
     ]
    },
    {
     "name": "stdout",
     "output_type": "stream",
     "text": [
      "El nombre de usuario no cumple con los requisitos.\n"
     ]
    }
   ],
   "source": [
    "import sys\n",
    "import os\n",
    "\n",
    "sys.path.append(os.path.abspath(\"..\"))\n",
    "from src import funciones\n",
    "\n",
    "nombre = input(\"Ingrese un nombre de usuario\")\n",
    "lista = [False,False,False,True]\n",
    "\n",
    "\n",
    "if(len(nombre) >= 5):\n",
    "    lista[0] = True\n",
    "\n",
    "for elem in nombre:\n",
    " funciones.evaluarCaracter(elem,lista)\n",
    "\n",
    "if(all(lista)):\n",
    "    print(\"El nombre de usuario es válido.\")\n",
    "else:\n",
    "    print(\"El nombre de usuario no cumple con los requisitos.\")\n"
   ]
  },
  {
   "cell_type": "code",
   "execution_count": null,
   "id": "223b63b6-298e-415d-9ad8-49795033682a",
   "metadata": {},
   "outputs": [],
   "source": []
  }
 ],
 "metadata": {
  "kernelspec": {
   "display_name": "Python 3 (ipykernel)",
   "language": "python",
   "name": "python3"
  },
  "language_info": {
   "codemirror_mode": {
    "name": "ipython",
    "version": 3
   },
   "file_extension": ".py",
   "mimetype": "text/x-python",
   "name": "python",
   "nbconvert_exporter": "python",
   "pygments_lexer": "ipython3",
   "version": "3.12.9"
  }
 },
 "nbformat": 4,
 "nbformat_minor": 5
}
