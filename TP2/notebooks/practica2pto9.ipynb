{
 "cells": [
  {
   "cell_type": "code",
   "execution_count": 7,
   "id": "4aeed2c8-f2c9-4acd-a02b-4ede1e7d578a",
   "metadata": {},
   "outputs": [
    {
     "name": "stdout",
     "output_type": "stream",
     "text": [
      "['Ana López', 'Pedro Gómez', 'Maria Martínez', 'Luis Rodríguez', 'Juan Pérez', 'Marta Suárez', 'María Martínez', 'Claudia Torres', 'Ricardo Fernández', 'Laura Ramos', 'Carlos Mendes', 'Alejandro González', 'Patricia Vega', 'Andrés Ocampo', 'Monica Herrera', 'Gabriela Ruíz', 'Sandra Morales', 'Miguel Ángel', 'Damián Castillo']\n"
     ]
    }
   ],
   "source": [
    "import sys\n",
    "import os\n",
    "\n",
    "sys.path.append(os.path.abspath(\"..\"))\n",
    "from src.funciones import clean_name\n",
    "\n",
    "clients = [\n",
    "\" Ana López \", \"Pedro Gómez\", \"maria martínez\", \"Pedro Gómez \", \"\",\n",
    "\" Luis Rodríguez \", None, \"ana lópez\", \"JUAN PÉREZ\", \"MARTA SUÁREZ\",\n",
    "\"luis rodríguez\", \"maría martínez \", \" claudia torres\", \"CLAUDIA TORRES\",\n",
    "\" \", \"pedro gómez\", \"Juan Pérez\", None, \"Ricardo Fernández\", \"LAURA RAMOS\",\n",
    "\"carlos mendes\", \"RICARDO FERNÁNDEZ \", \" Laura ramos\", \"CARLOS MENDES\",\n",
    "\"alejandro gonzález\", \" ALEJANDRO GONZÁLEZ \", \"Patricia Vega\",\n",
    "\"patricia VEGA\", \"Andrés Ocampo\", \" andrés ocampo\", \"Monica Herrera\",\n",
    "\"MONICA HERRERA \", \"gabriela ruíz\", \"Gabriela Ruíz\", \"sandra morales\",\n",
    "\"SANDRA MORALES\", \"miguel ángel\", \"Miguel Ángel \", \" Damián Castillo\",\n",
    "\"Damián Castillo \", None, \"\", \" \"\n",
    "]\n",
    "\n",
    "copia = []\n",
    "\n",
    "def clean_data():\n",
    " global clients\n",
    " for elem in clients:\n",
    "  nombre = clean_name(elem) \n",
    "  if nombre != None and nombre not in copia:\n",
    "      copia.append(nombre)\n",
    "     \n",
    "clean_data()\n",
    "print(copia)\n"
   ]
  },
  {
   "cell_type": "code",
   "execution_count": null,
   "id": "834da3f3-3856-47f0-89fd-9901b40df58d",
   "metadata": {},
   "outputs": [],
   "source": []
  },
  {
   "cell_type": "code",
   "execution_count": null,
   "id": "34322c25-8124-491d-a8db-d5175dc9c45c",
   "metadata": {},
   "outputs": [],
   "source": []
  }
 ],
 "metadata": {
  "kernelspec": {
   "display_name": "Python 3 (ipykernel)",
   "language": "python",
   "name": "python3"
  },
  "language_info": {
   "codemirror_mode": {
    "name": "ipython",
    "version": 3
   },
   "file_extension": ".py",
   "mimetype": "text/x-python",
   "name": "python",
   "nbconvert_exporter": "python",
   "pygments_lexer": "ipython3",
   "version": "3.12.9"
  }
 },
 "nbformat": 4,
 "nbformat_minor": 5
}
