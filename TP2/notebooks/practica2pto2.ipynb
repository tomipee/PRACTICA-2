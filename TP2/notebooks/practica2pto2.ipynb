{
 "cells": [
  {
   "cell_type": "code",
   "execution_count": 1,
   "id": "83c54fd8-e47e-46d4-9643-63ec12fc4011",
   "metadata": {},
   "outputs": [
    {
     "name": "stdout",
     "output_type": "stream",
     "text": [
      "7\n",
      "['Speedrun', 'de', 'Super', 'Mario', 'en', 'tiempo', 'récord']\n",
      "5\n",
      "['Charla', 'sobre', 'desarrollo', 'de', 'videojuegos']\n",
      "8\n",
      "['Jugando', 'al', 'nuevo', 'FPS', 'del', 'momento', 'con', 'amigos']\n",
      "6\n",
      "['Música', 'en', 'vivo:', 'improvisaciones', 'al', 'piano']\n",
      "El titulo con mayor cantidad de letras es  'Jugando al nuevo FPS del momento con amigos', con una cantidad de 8 palabras\n"
     ]
    }
   ],
   "source": [
    "import sys\n",
    "import os\n",
    "\n",
    "sys.path.append(os.path.abspath(\"..\"))\n",
    "from src import funciones\n",
    "\n",
    "titles = [\n",
    "\"Speedrun de Super Mario en tiempo récord\",\n",
    "\"Charla sobre desarrollo de videojuegos\",\n",
    "\"Jugando al nuevo FPS del momento con amigos\",\n",
    "\"Música en vivo: improvisaciones al piano\"\n",
    "]\n",
    "\n",
    "\n",
    "for e in titles:\n",
    "    palabra = funciones.dividirLinea(e)\n",
    "    cant = 0\n",
    "    cant = funciones.contarPalabras(cant,palabra)\n",
    "    print(cant)\n",
    "    print(palabra)\n",
    "    max = funciones.calcularMax(cant,e)\n",
    "print(f\"El titulo con mayor cantidad de letras es  '{max[1]}', con una cantidad de {max[0]} palabras\")\n",
    "        \n",
    "        \n"
   ]
  },
  {
   "cell_type": "code",
   "execution_count": null,
   "id": "3a2d2320-052a-4c0e-9cb8-0961c2a260b6",
   "metadata": {},
   "outputs": [],
   "source": []
  },
  {
   "cell_type": "code",
   "execution_count": null,
   "id": "72c16659-bce7-4000-b043-8b87fe20f1bb",
   "metadata": {},
   "outputs": [],
   "source": []
  },
  {
   "cell_type": "code",
   "execution_count": null,
   "id": "f0f35c93-98cb-4c0d-a54f-30f04f4f0e5f",
   "metadata": {},
   "outputs": [],
   "source": []
  },
  {
   "cell_type": "code",
   "execution_count": null,
   "id": "0b53d574-cf4e-4955-bf4d-7de50faa963e",
   "metadata": {},
   "outputs": [],
   "source": []
  }
 ],
 "metadata": {
  "kernelspec": {
   "display_name": "Python 3 (ipykernel)",
   "language": "python",
   "name": "python3"
  },
  "language_info": {
   "codemirror_mode": {
    "name": "ipython",
    "version": 3
   },
   "file_extension": ".py",
   "mimetype": "text/x-python",
   "name": "python",
   "nbconvert_exporter": "python",
   "pygments_lexer": "ipython3",
   "version": "3.12.9"
  }
 },
 "nbformat": 4,
 "nbformat_minor": 5
}
