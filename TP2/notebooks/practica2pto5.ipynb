{
 "cells": [
  {
   "cell_type": "code",
   "execution_count": 8,
   "id": "22eaba7a-468a-4c25-8b50-00efc246b86e",
   "metadata": {},
   "outputs": [
    {
     "name": "stdin",
     "output_type": "stream",
     "text": [
      "Ingrese su tiempo de reacción en ms: 1456\n"
     ]
    },
    {
     "name": "stdout",
     "output_type": "stream",
     "text": [
      "Categoría: Lento\n"
     ]
    }
   ],
   "source": [
    "calificaciones = { \"Rapido\" : (0,200),\n",
    "                   \"Normal\" : (200,500),\n",
    "                   \"Lento\" : (501,2000)}\n",
    "\n",
    "ms = int(input(\"Ingrese su tiempo de reacción en ms:\"))\n",
    "\n",
    "\n",
    "for elem, (minimo,maximo) in calificaciones.items() :\n",
    "    if(ms >= minimo) and (ms<=maximo):\n",
    "        print(f\"Categoría: {elem}\")"
   ]
  },
  {
   "cell_type": "code",
   "execution_count": null,
   "id": "8541e358-6dbb-4b39-bf4c-b134efa6060c",
   "metadata": {},
   "outputs": [],
   "source": []
  }
 ],
 "metadata": {
  "kernelspec": {
   "display_name": "Python 3 (ipykernel)",
   "language": "python",
   "name": "python3"
  },
  "language_info": {
   "codemirror_mode": {
    "name": "ipython",
    "version": 3
   },
   "file_extension": ".py",
   "mimetype": "text/x-python",
   "name": "python",
   "nbconvert_exporter": "python",
   "pygments_lexer": "ipython3",
   "version": "3.12.9"
  }
 },
 "nbformat": 4,
 "nbformat_minor": 5
}
